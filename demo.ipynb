{
 "cells": [
  {
   "cell_type": "code",
   "execution_count": 20,
   "metadata": {},
   "outputs": [
    {
     "name": "stderr",
     "output_type": "stream",
     "text": [
      "/home/tuandinh/Desktop/SpeedToText/env/lib/python3.10/site-packages/transformers/configuration_utils.py:380: UserWarning: Passing `gradient_checkpointing` to a config initialization is deprecated and will be removed in v5 Transformers. Using `model.gradient_checkpointing_enable()` instead, or if you are using the `Trainer` API, pass `gradient_checkpointing=True` in your `TrainingArguments`.\n",
      "  warnings.warn(\n",
      "Special tokens have been added in the vocabulary, make sure the associated word embeddings are fine-tuned or trained.\n"
     ]
    },
    {
     "name": "stdout",
     "output_type": "stream",
     "text": [
      "Running on local URL:  http://127.0.0.1:7869\n",
      "Running on public URL: https://3e2c729cff87de1e8e.gradio.live\n",
      "\n",
      "This share link expires in 72 hours. For free permanent hosting and GPU upgrades, run `gradio deploy` from Terminal to deploy to Spaces (https://huggingface.co/spaces)\n"
     ]
    },
    {
     "data": {
      "text/html": [
       "<div><iframe src=\"https://3e2c729cff87de1e8e.gradio.live\" width=\"100%\" height=\"500\" allow=\"autoplay; camera; microphone; clipboard-read; clipboard-write;\" frameborder=\"0\" allowfullscreen></iframe></div>"
      ],
      "text/plain": [
       "<IPython.core.display.HTML object>"
      ]
     },
     "metadata": {},
     "output_type": "display_data"
    },
    {
     "data": {
      "text/plain": []
     },
     "execution_count": 20,
     "metadata": {},
     "output_type": "execute_result"
    }
   ],
   "source": [
    "# Use a pipeline as a high-level helper\n",
    "from transformers import pipeline\n",
    "import soundfile as sf\n",
    "import time\n",
    "import gradio as gr\n",
    "\n",
    "\n",
    "pipe = pipeline(\"automatic-speech-recognition\", model=\"nguyenvulebinh/wav2vec2-base-vietnamese-250h\")\n",
    "# define function to read in sound file\n",
    "def map_to_array(batch):\n",
    "    speech, _ = sf.read(batch[\"file\"])\n",
    "    batch[\"speech\"] = speech\n",
    "    return batch\n",
    "\n",
    "def transcribe(audio, state=\"\"):\n",
    "    time.sleep(2)\n",
    "    ds = map_to_array({\n",
    "    \"file\": audio\n",
    "    })\n",
    "    text = pipe(ds[\"file\"])[\"text\"]\n",
    "    state += text + \" \"\n",
    "    return state, state\n",
    "\n",
    "gr.Interface(\n",
    "    fn=transcribe,\n",
    "    inputs=[\n",
    "        gr.Audio(source=\"microphone\", type=\"filepath\", streaming=True),\n",
    "        \"state\"\n",
    "    ],\n",
    "    outputs=[\n",
    "        \"textbox\",\n",
    "        \"state\"\n",
    "    ],\n",
    "    live=True).launch(share=True)"
   ]
  },
  {
   "cell_type": "code",
   "execution_count": null,
   "metadata": {},
   "outputs": [],
   "source": [
    "# import gradio as gr\n",
    "# from transformers import Wav2Vec2ForCTC, Wav2Vec2Processor\n",
    "# import torch\n",
    "# import torchaudio\n",
    "# import time\n",
    "\n",
    "# # Load the pre-trained ASR model and processor\n",
    "# model_name = \"nguyenvulebinh/wav2vec2-base-vietnamese-250h\"\n",
    "# model = Wav2Vec2ForCTC.from_pretrained(model_name)\n",
    "# processor = Wav2Vec2Processor.from_pretrained(model_name)\n",
    "\n",
    "\n",
    "# \"\"\"\n",
    "# # load dummy dataset and read soundfiles\n",
    "# ds = map_to_array({\n",
    "#     \"file\": '/home/tuandinh/Desktop/SpeedToText/t1_0001-00010.wav'\n",
    "# })\n",
    "\n",
    "# # tokenize\n",
    "# input_values = processor(ds[\"speech\"], return_tensors=\"pt\", padding=\"longest\").input_values  # Batch size 1\n",
    "# \"\"\"\n",
    "\n",
    "# def asr(audio, state=\"\"):\n",
    "#     time.sleep(2)\n",
    "#     # Process audio\n",
    "#     audio_input, _ = torchaudio.load(audio.name)\n",
    "#     sampling_rate = audio_input.shape[1]  # Assuming shape is (num_channels, num_samples)\n",
    "\n",
    "#     input_values = processor(audio_input[0].numpy(), sampling_rate=sampling_rate, return_tensors=\"pt\").input_values\n",
    "#     # input_values = processor(audio, return_tensors=\"pt\").input_values\n",
    "\n",
    "#     # Perform ASR\n",
    "#     with torch.no_grad():\n",
    "#         logits = model(input_values).logits\n",
    "\n",
    "#     predicted_ids = torch.argmax(logits, dim=-1)\n",
    "#     transcription = processor.batch_decode(predicted_ids)[0]\n",
    "#     state += transcription + \" \"\n",
    "#     return state, state\n",
    "\n",
    "# gr.Interface(\n",
    "#     fn=asr,\n",
    "#     inputs=[\n",
    "#         gr.Audio(source=\"microphone\", type=\"filepath\", streaming=True),\n",
    "#         \"state\"\n",
    "#     ],\n",
    "#     outputs=[\n",
    "#         \"textbox\",\n",
    "#         \"state\"\n",
    "#     ],\n",
    "#     live=True).launch(share=True)\n",
    "\n",
    "# # Define the Gradio interface\n",
    "\n",
    "# # iface = gr.Interface(fn=asr, inputs=\"microphone\", outputs=\"text\", live=True)\n",
    "# # iface.launch(share=True)\n"
   ]
  },
  {
   "cell_type": "code",
   "execution_count": null,
   "metadata": {},
   "outputs": [],
   "source": []
  }
 ],
 "metadata": {
  "kernelspec": {
   "display_name": "env",
   "language": "python",
   "name": "python3"
  },
  "language_info": {
   "codemirror_mode": {
    "name": "ipython",
    "version": 3
   },
   "file_extension": ".py",
   "mimetype": "text/x-python",
   "name": "python",
   "nbconvert_exporter": "python",
   "pygments_lexer": "ipython3",
   "version": "3.10.12"
  },
  "orig_nbformat": 4
 },
 "nbformat": 4,
 "nbformat_minor": 2
}
